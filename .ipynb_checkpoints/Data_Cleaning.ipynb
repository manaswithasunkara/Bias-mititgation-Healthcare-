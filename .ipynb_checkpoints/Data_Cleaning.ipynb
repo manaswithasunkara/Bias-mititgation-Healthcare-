{
 "cells": [
  {
   "cell_type": "code",
   "execution_count": 2,
   "id": "c5967ef1-abba-47cb-9f68-732f90e96c9d",
   "metadata": {},
   "outputs": [],
   "source": [
    "import pandas as pd"
   ]
  },
  {
   "cell_type": "code",
   "execution_count": null,
   "id": "c90e0be9-673c-48f4-8948-b0972177e5b1",
   "metadata": {},
   "outputs": [],
   "source": []
  },
  {
   "cell_type": "code",
   "execution_count": 6,
   "id": "d1458b84-cb41-4250-b440-db96e6a6d8b7",
   "metadata": {},
   "outputs": [
    {
     "name": "stdout",
     "output_type": "stream",
     "text": [
      "       SEQN  SDDSRVYR  RIDSTATR  RIAGENDR  RIDAGEYR  RIDAGEMN  RIDRETH1  \\\n",
      "0  130378.0      12.0       2.0       1.0      43.0       NaN       5.0   \n",
      "1  130379.0      12.0       2.0       1.0      66.0       NaN       3.0   \n",
      "2  130380.0      12.0       2.0       2.0      44.0       NaN       2.0   \n",
      "3  130381.0      12.0       2.0       2.0       5.0       NaN       5.0   \n",
      "4  130382.0      12.0       2.0       1.0       2.0       NaN       3.0   \n",
      "\n",
      "   RIDRETH3  RIDEXMON  RIDEXAGM  ...  DMDHRGND  DMDHRAGZ  DMDHREDZ  DMDHRMAZ  \\\n",
      "0       6.0       2.0       NaN  ...       NaN       NaN       NaN       NaN   \n",
      "1       3.0       2.0       NaN  ...       NaN       NaN       NaN       NaN   \n",
      "2       2.0       1.0       NaN  ...       NaN       NaN       NaN       NaN   \n",
      "3       7.0       1.0      71.0  ...       2.0       2.0       2.0       3.0   \n",
      "4       3.0       2.0      34.0  ...       2.0       2.0       3.0       1.0   \n",
      "\n",
      "   DMDHSEDZ      WTINT2YR      WTMEC2YR  SDMVSTRA  SDMVPSU  INDFMPIR  \n",
      "0       NaN  50055.450807  54374.463898     173.0      2.0      5.00  \n",
      "1       NaN  29087.450605  34084.721548     173.0      2.0      5.00  \n",
      "2       NaN  80062.674301  81196.277992     174.0      1.0      1.41  \n",
      "3       NaN  38807.268902  55698.607106     182.0      2.0      1.53  \n",
      "4       2.0  30607.519774  36434.146346     182.0      2.0      3.60  \n",
      "\n",
      "[5 rows x 27 columns]\n",
      "\n",
      "Filtered Data\n",
      "        SEQN  SDDSRVYR  RIDSTATR  RIAGENDR  RIDAGEYR  RIDRETH1  RIDRETH3  \\\n",
      "2   130380.0      12.0       2.0       2.0      44.0       2.0       2.0   \n",
      "10  130388.0      12.0       2.0       2.0      27.0       4.0       4.0   \n",
      "12  130390.0      12.0       2.0       2.0      31.0       3.0       3.0   \n",
      "13  130391.0      12.0       2.0       2.0      33.0       3.0       3.0   \n",
      "17  130395.0      12.0       2.0       2.0      33.0       5.0       7.0   \n",
      "\n",
      "    RIDEXMON  DMQMILIZ  DMDBORN4  DMDEDUC2  DMDMARTZ  RIDEXPRG  DMDHHSIZ  \\\n",
      "2        1.0       2.0       2.0       3.0       1.0       2.0       7.0   \n",
      "10       1.0       2.0       1.0       4.0       1.0       2.0       5.0   \n",
      "12       2.0       1.0       1.0       3.0       1.0       2.0       5.0   \n",
      "13       2.0       2.0       1.0       3.0       3.0       2.0       3.0   \n",
      "17       2.0       2.0       1.0       3.0       3.0       2.0       1.0   \n",
      "\n",
      "        WTINT2YR      WTMEC2YR  SDMVSTRA  SDMVPSU  INDFMPIR  \n",
      "2   80062.674301  81196.277992     174.0      1.0      1.41  \n",
      "10  22234.443573  30329.536432     187.0      1.0      0.81  \n",
      "12  36895.283578  56314.156949     185.0      2.0      2.16  \n",
      "13  45423.073281  60330.824308     186.0      2.0      0.93  \n",
      "17  18277.659785  21603.418111     173.0      1.0      1.10  \n"
     ]
    }
   ],
   "source": [
    "def demo_xpt_to_csv(input_path, output_path):\n",
    "    try:\n",
    "        df = pd.read_sas(input_path, format='xport')\n",
    "        print(df.head())\n",
    "\n",
    "        condition = ~((df['RIAGENDR'] == 1) | ((df['RIDAGEYR'] < 20) | (df['RIDAGEYR'] > 45)))\n",
    "        df_filtered = df[condition]\n",
    "        #Deleting specific columns\n",
    "        columns_to_delete = ['RIDAGEMN', 'RIDEXAGM', 'DMDHRGND', 'DMDHRAGZ', 'DMDHRMAZ','DNDHRMAZ', 'DMDHSEDZ', 'DMDHREDZ',  'DMDYRUSR']\n",
    "        for col in columns_to_delete:\n",
    "            if col in df_filtered.columns:\n",
    "                df_filtered = df_filtered.drop(columns = [col])\n",
    "            \n",
    "        print(\"\\nFiltered Data\")\n",
    "        print(df_filtered.head())\n",
    "        df_filtered.to_csv(output_path, index=False)\n",
    "    except Exception as e:\n",
    "        print(f\"Error: {e}\")        \n",
    "    \n",
    "\n",
    "demo_xpt_to_csv('Demo_L.xpt', 'Filtered_Demo.csv')"
   ]
  },
  {
   "cell_type": "code",
   "execution_count": null,
   "id": "4c5d6c03-8647-4b9e-bd3c-221cee66ee88",
   "metadata": {},
   "outputs": [],
   "source": []
  },
  {
   "cell_type": "code",
   "execution_count": 8,
   "id": "ff83f984-771b-4a16-94ac-4a0acd1d8a59",
   "metadata": {},
   "outputs": [
    {
     "name": "stdout",
     "output_type": "stream",
     "text": [
      "Original Data\n",
      "\n",
      "          SEQN       WTPH2YR  LBXFER  LBDFERSI\n",
      "0     130380.0  8.532884e+04   13.30     13.30\n",
      "1     130381.0  5.397605e-79     NaN       NaN\n",
      "2     130382.0  5.963893e+04   24.40     24.40\n",
      "3     130388.0  3.286429e+04     NaN       NaN\n",
      "4     130390.0  6.142701e+04   52.10     52.10\n",
      "...        ...           ...     ...       ...\n",
      "2559  142280.0  6.639765e+04   66.40     66.40\n",
      "2560  142282.0  5.397605e-79     NaN       NaN\n",
      "2561  142283.0  1.527882e+05   31.60     31.60\n",
      "2562  142300.0  3.147068e+04    5.69      5.69\n",
      "2563  142307.0  6.899418e+04  286.00    286.00\n",
      "\n",
      "[2564 rows x 4 columns]\n"
     ]
    }
   ],
   "source": [
    "def filtered_fertin(input_path):\n",
    "    try:\n",
    "        df = pd.read_sas(input_path, format='xport')\n",
    "        print('Original Data')\n",
    "        print(f\"\\n{df}\")\n",
    "    except Exception as e:\n",
    "        print(f\"Error {e}\")\n",
    "filtered_fertin('FERTIN_L.xpt')"
   ]
  },
  {
   "cell_type": "code",
   "execution_count": null,
   "id": "03871e76-0268-4d8c-a123-f15ada40d2cd",
   "metadata": {},
   "outputs": [],
   "source": []
  },
  {
   "cell_type": "code",
   "execution_count": 5,
   "id": "cb211b0e-6a86-4be9-ba9c-84ef2fcdf051",
   "metadata": {},
   "outputs": [
    {
     "name": "stdout",
     "output_type": "stream",
     "text": [
      "Original Data\n",
      "\n",
      "          SEQN       WTPH2YR  LBXVIDMS      LBDVIDLC  LBXVD2MS  LBDVD2LC  \\\n",
      "0     130378.0  5.604213e+04      58.9  5.397605e-79      1.57       1.0   \n",
      "1     130379.0  3.743571e+04      60.5  5.397605e-79      1.57       1.0   \n",
      "2     130380.0  8.532884e+04      39.4  5.397605e-79      1.57       1.0   \n",
      "3     130381.0  5.397605e-79       NaN           NaN       NaN       NaN   \n",
      "4     130382.0  5.963893e+04       NaN           NaN       NaN       NaN   \n",
      "...        ...           ...       ...           ...       ...       ...   \n",
      "8722  142306.0  5.397605e-79       NaN           NaN       NaN       NaN   \n",
      "8723  142307.0  6.899418e+04     147.0  5.397605e-79      1.57       1.0   \n",
      "8724  142308.0  5.397605e-79       NaN           NaN       NaN       NaN   \n",
      "8725  142309.0  4.628442e+04      17.8  5.397605e-79      1.57       1.0   \n",
      "8726  142310.0  5.325082e+04     136.0  5.397605e-79      1.57       1.0   \n",
      "\n",
      "      LBXVD3MS      LBDVD3LC  LBXVE3MS      LBDVE3LC  \n",
      "0         57.3  5.397605e-79      2.47  5.397605e-79  \n",
      "1         58.9  5.397605e-79      3.40  5.397605e-79  \n",
      "2         37.8  5.397605e-79      1.52  5.397605e-79  \n",
      "3          NaN           NaN       NaN           NaN  \n",
      "4          NaN           NaN       NaN           NaN  \n",
      "...        ...           ...       ...           ...  \n",
      "8722       NaN           NaN       NaN           NaN  \n",
      "8723     145.0  5.397605e-79     15.90  5.397605e-79  \n",
      "8724       NaN           NaN       NaN           NaN  \n",
      "8725      16.2  5.397605e-79      0.78  5.397605e-79  \n",
      "8726     134.0  5.397605e-79      9.28  5.397605e-79  \n",
      "\n",
      "[8727 rows x 10 columns]\n"
     ]
    }
   ],
   "source": [
    "def vid_xpt_to_csv(input_data_path):\n",
    "    try:\n",
    "        df = pd.read_sas(input_data_path, format='xport')\n",
    "        print('Original Data')\n",
    "        print(f\"\\n{df}\")\n",
    "    except Exception as e:\n",
    "        print(f\"Error: {e}\")\n",
    "vid_xpt_to_csv('VID_L.xpt')"
   ]
  }
 ],
 "metadata": {
  "kernelspec": {
   "display_name": "Python [conda env:base] *",
   "language": "python",
   "name": "conda-base-py"
  },
  "language_info": {
   "codemirror_mode": {
    "name": "ipython",
    "version": 3
   },
   "file_extension": ".py",
   "mimetype": "text/x-python",
   "name": "python",
   "nbconvert_exporter": "python",
   "pygments_lexer": "ipython3",
   "version": "3.12.7"
  }
 },
 "nbformat": 4,
 "nbformat_minor": 5
}
