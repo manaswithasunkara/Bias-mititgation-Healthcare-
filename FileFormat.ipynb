{
 "cells": [
  {
   "cell_type": "code",
   "execution_count": null,
   "id": "d1458b84-cb41-4250-b440-db96e6a6d8b7",
   "metadata": {},
   "outputs": [],
   "source": [
    "import pandas as pd\n",
    "\n",
    "def xpt_to_excel(input_path, output_path):\n",
    "    try:\n",
    "        df = pd.read_sas(input_path, format='xport')\n",
    "        df.to_excel(output_path, index=False, engine='openpyxl')\n",
    "        print(f\"File saved to {output_path}\")\n",
    "    except Exception as e:\n",
    "        print(f\"Error: {e}\")\n",
    "\n",
    "xpt_to_excel('Demo_L.xpt', 'Demo_L.xlsx')"
   ]
  }
 ],
 "metadata": {
  "kernelspec": {
   "display_name": "Python [conda env:base] *",
   "language": "python",
   "name": "conda-base-py"
  },
  "language_info": {
   "codemirror_mode": {
    "name": "ipython",
    "version": 3
   },
   "file_extension": ".py",
   "mimetype": "text/x-python",
   "name": "python",
   "nbconvert_exporter": "python",
   "pygments_lexer": "ipython3",
   "version": "3.12.7"
  }
 },
 "nbformat": 4,
 "nbformat_minor": 5
}
