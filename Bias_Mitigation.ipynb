{
 "cells": [
  {
   "cell_type": "code",
   "execution_count": 32,
   "id": "924d5485-5277-4478-84ab-2059ab0e7e88",
   "metadata": {},
   "outputs": [],
   "source": [
    "import pandas as pd\n",
    "import numpy as np\n",
    "import os\n",
    "from sklearn.impute import SimpleImputer\n",
    "from  sklearn.model_selection import  train_test_split\n",
    "from sklearn.ensemble import RandomForestRegressor\n",
    "from sklearn.metrics import accuracy_score, mean_squared_error, mean_absolute_error\n",
    "from sklearn.preprocessing import StandardScaler, OneHotEncoder, PolynomialFeatures\n",
    "from sklearn.linear_model import LinearRegression, LogisticRegression\n",
    "from sklearn.multioutput import MultiOutputClassifier \n",
    "import matplotlib.pyplot as plt\n",
    "from sklearn.preprocessing import StandardScaler\n",
    "from sklearn.metrics import accuracy_score, confusion_matrix, classification_report"
   ]
  },
  {
   "cell_type": "code",
   "execution_count": 33,
   "id": "281a9547-08a0-4d5b-9b89-5b6961f6b0c8",
   "metadata": {},
   "outputs": [],
   "source": [
    "def load_dataset(file_path):\n",
    "    return pd.read_sas(file_path, format=\"xport\")"
   ]
  },
  {
   "cell_type": "code",
   "execution_count": 34,
   "id": "f8b86028-a8e2-48bb-8e40-508c8166600f",
   "metadata": {
    "scrolled": true
   },
   "outputs": [
    {
     "data": {
      "text/html": [
       "<div>\n",
       "<style scoped>\n",
       "    .dataframe tbody tr th:only-of-type {\n",
       "        vertical-align: middle;\n",
       "    }\n",
       "\n",
       "    .dataframe tbody tr th {\n",
       "        vertical-align: top;\n",
       "    }\n",
       "\n",
       "    .dataframe thead th {\n",
       "        text-align: right;\n",
       "    }\n",
       "</style>\n",
       "<table border=\"1\" class=\"dataframe\">\n",
       "  <thead>\n",
       "    <tr style=\"text-align: right;\">\n",
       "      <th></th>\n",
       "      <th>SEQN</th>\n",
       "      <th>BPAOARM</th>\n",
       "      <th>BPAOCSZ</th>\n",
       "      <th>BPXOSY1</th>\n",
       "      <th>BPXODI1</th>\n",
       "      <th>BPXOSY2</th>\n",
       "      <th>BPXODI2</th>\n",
       "      <th>BPXOSY3</th>\n",
       "      <th>BPXODI3</th>\n",
       "      <th>BPXOPLS1</th>\n",
       "      <th>BPXOPLS2</th>\n",
       "      <th>BPXOPLS3</th>\n",
       "    </tr>\n",
       "  </thead>\n",
       "  <tbody>\n",
       "    <tr>\n",
       "      <th>0</th>\n",
       "      <td>130378.0</td>\n",
       "      <td>b'R'</td>\n",
       "      <td>4.0</td>\n",
       "      <td>135.0</td>\n",
       "      <td>98.0</td>\n",
       "      <td>131.0</td>\n",
       "      <td>96.0</td>\n",
       "      <td>132.0</td>\n",
       "      <td>94.0</td>\n",
       "      <td>82.0</td>\n",
       "      <td>79.0</td>\n",
       "      <td>82.0</td>\n",
       "    </tr>\n",
       "    <tr>\n",
       "      <th>1</th>\n",
       "      <td>130379.0</td>\n",
       "      <td>b'R'</td>\n",
       "      <td>4.0</td>\n",
       "      <td>121.0</td>\n",
       "      <td>84.0</td>\n",
       "      <td>117.0</td>\n",
       "      <td>76.0</td>\n",
       "      <td>113.0</td>\n",
       "      <td>76.0</td>\n",
       "      <td>72.0</td>\n",
       "      <td>71.0</td>\n",
       "      <td>73.0</td>\n",
       "    </tr>\n",
       "    <tr>\n",
       "      <th>2</th>\n",
       "      <td>130380.0</td>\n",
       "      <td>b'R'</td>\n",
       "      <td>4.0</td>\n",
       "      <td>111.0</td>\n",
       "      <td>79.0</td>\n",
       "      <td>112.0</td>\n",
       "      <td>80.0</td>\n",
       "      <td>104.0</td>\n",
       "      <td>76.0</td>\n",
       "      <td>84.0</td>\n",
       "      <td>83.0</td>\n",
       "      <td>77.0</td>\n",
       "    </tr>\n",
       "    <tr>\n",
       "      <th>3</th>\n",
       "      <td>130386.0</td>\n",
       "      <td>b'R'</td>\n",
       "      <td>4.0</td>\n",
       "      <td>110.0</td>\n",
       "      <td>72.0</td>\n",
       "      <td>120.0</td>\n",
       "      <td>74.0</td>\n",
       "      <td>115.0</td>\n",
       "      <td>75.0</td>\n",
       "      <td>59.0</td>\n",
       "      <td>64.0</td>\n",
       "      <td>64.0</td>\n",
       "    </tr>\n",
       "    <tr>\n",
       "      <th>4</th>\n",
       "      <td>130387.0</td>\n",
       "      <td>b'R'</td>\n",
       "      <td>4.0</td>\n",
       "      <td>143.0</td>\n",
       "      <td>76.0</td>\n",
       "      <td>136.0</td>\n",
       "      <td>74.0</td>\n",
       "      <td>145.0</td>\n",
       "      <td>78.0</td>\n",
       "      <td>80.0</td>\n",
       "      <td>80.0</td>\n",
       "      <td>77.0</td>\n",
       "    </tr>\n",
       "    <tr>\n",
       "      <th>...</th>\n",
       "      <td>...</td>\n",
       "      <td>...</td>\n",
       "      <td>...</td>\n",
       "      <td>...</td>\n",
       "      <td>...</td>\n",
       "      <td>...</td>\n",
       "      <td>...</td>\n",
       "      <td>...</td>\n",
       "      <td>...</td>\n",
       "      <td>...</td>\n",
       "      <td>...</td>\n",
       "      <td>...</td>\n",
       "    </tr>\n",
       "    <tr>\n",
       "      <th>7796</th>\n",
       "      <td>142306.0</td>\n",
       "      <td>b'R'</td>\n",
       "      <td>2.0</td>\n",
       "      <td>NaN</td>\n",
       "      <td>NaN</td>\n",
       "      <td>NaN</td>\n",
       "      <td>NaN</td>\n",
       "      <td>NaN</td>\n",
       "      <td>NaN</td>\n",
       "      <td>NaN</td>\n",
       "      <td>NaN</td>\n",
       "      <td>NaN</td>\n",
       "    </tr>\n",
       "    <tr>\n",
       "      <th>7797</th>\n",
       "      <td>142307.0</td>\n",
       "      <td>b'R'</td>\n",
       "      <td>4.0</td>\n",
       "      <td>127.0</td>\n",
       "      <td>75.0</td>\n",
       "      <td>132.0</td>\n",
       "      <td>73.0</td>\n",
       "      <td>131.0</td>\n",
       "      <td>72.0</td>\n",
       "      <td>71.0</td>\n",
       "      <td>70.0</td>\n",
       "      <td>67.0</td>\n",
       "    </tr>\n",
       "    <tr>\n",
       "      <th>7798</th>\n",
       "      <td>142308.0</td>\n",
       "      <td>b'R'</td>\n",
       "      <td>3.0</td>\n",
       "      <td>106.0</td>\n",
       "      <td>65.0</td>\n",
       "      <td>106.0</td>\n",
       "      <td>69.0</td>\n",
       "      <td>112.0</td>\n",
       "      <td>74.0</td>\n",
       "      <td>58.0</td>\n",
       "      <td>61.0</td>\n",
       "      <td>69.0</td>\n",
       "    </tr>\n",
       "    <tr>\n",
       "      <th>7799</th>\n",
       "      <td>142309.0</td>\n",
       "      <td>b'R'</td>\n",
       "      <td>3.0</td>\n",
       "      <td>127.0</td>\n",
       "      <td>81.0</td>\n",
       "      <td>125.0</td>\n",
       "      <td>82.0</td>\n",
       "      <td>128.0</td>\n",
       "      <td>81.0</td>\n",
       "      <td>80.0</td>\n",
       "      <td>79.0</td>\n",
       "      <td>83.0</td>\n",
       "    </tr>\n",
       "    <tr>\n",
       "      <th>7800</th>\n",
       "      <td>142310.0</td>\n",
       "      <td>b'R'</td>\n",
       "      <td>4.0</td>\n",
       "      <td>128.0</td>\n",
       "      <td>81.0</td>\n",
       "      <td>121.0</td>\n",
       "      <td>78.0</td>\n",
       "      <td>129.0</td>\n",
       "      <td>81.0</td>\n",
       "      <td>77.0</td>\n",
       "      <td>78.0</td>\n",
       "      <td>79.0</td>\n",
       "    </tr>\n",
       "  </tbody>\n",
       "</table>\n",
       "<p>7801 rows × 12 columns</p>\n",
       "</div>"
      ],
      "text/plain": [
       "          SEQN BPAOARM  BPAOCSZ  BPXOSY1  BPXODI1  BPXOSY2  BPXODI2  BPXOSY3  \\\n",
       "0     130378.0    b'R'      4.0    135.0     98.0    131.0     96.0    132.0   \n",
       "1     130379.0    b'R'      4.0    121.0     84.0    117.0     76.0    113.0   \n",
       "2     130380.0    b'R'      4.0    111.0     79.0    112.0     80.0    104.0   \n",
       "3     130386.0    b'R'      4.0    110.0     72.0    120.0     74.0    115.0   \n",
       "4     130387.0    b'R'      4.0    143.0     76.0    136.0     74.0    145.0   \n",
       "...        ...     ...      ...      ...      ...      ...      ...      ...   \n",
       "7796  142306.0    b'R'      2.0      NaN      NaN      NaN      NaN      NaN   \n",
       "7797  142307.0    b'R'      4.0    127.0     75.0    132.0     73.0    131.0   \n",
       "7798  142308.0    b'R'      3.0    106.0     65.0    106.0     69.0    112.0   \n",
       "7799  142309.0    b'R'      3.0    127.0     81.0    125.0     82.0    128.0   \n",
       "7800  142310.0    b'R'      4.0    128.0     81.0    121.0     78.0    129.0   \n",
       "\n",
       "      BPXODI3  BPXOPLS1  BPXOPLS2  BPXOPLS3  \n",
       "0        94.0      82.0      79.0      82.0  \n",
       "1        76.0      72.0      71.0      73.0  \n",
       "2        76.0      84.0      83.0      77.0  \n",
       "3        75.0      59.0      64.0      64.0  \n",
       "4        78.0      80.0      80.0      77.0  \n",
       "...       ...       ...       ...       ...  \n",
       "7796      NaN       NaN       NaN       NaN  \n",
       "7797     72.0      71.0      70.0      67.0  \n",
       "7798     74.0      58.0      61.0      69.0  \n",
       "7799     81.0      80.0      79.0      83.0  \n",
       "7800     81.0      77.0      78.0      79.0  \n",
       "\n",
       "[7801 rows x 12 columns]"
      ]
     },
     "execution_count": 34,
     "metadata": {},
     "output_type": "execute_result"
    }
   ],
   "source": [
    "bp_data = load_dataset(\"BPXO_L.xpt\")\n",
    "bp_data"
   ]
  },
  {
   "cell_type": "code",
   "execution_count": null,
   "id": "3dcd988c-2c80-4803-ae43-1c5c4ba1afd9",
   "metadata": {},
   "outputs": [],
   "source": [
    "demo_data = load_dataset(\"DEMO_L.XPT\")\n",
    "demo_data"
   ]
  },
  {
   "cell_type": "code",
   "execution_count": null,
   "id": "9eadbd38-6cfe-4181-ac01-4881cd19bcf2",
   "metadata": {
    "scrolled": true
   },
   "outputs": [],
   "source": [
    "fertin_data = load_dataset(\"FERTIN_L.xpt\")\n",
    "fertin_data"
   ]
  },
  {
   "cell_type": "code",
   "execution_count": null,
   "id": "484c7822-ac64-4932-8428-bdd313199412",
   "metadata": {},
   "outputs": [],
   "source": [
    "insurance_data = load_dataset(\"HIQ_L.xpt\")\n",
    "insurance_data"
   ]
  },
  {
   "cell_type": "code",
   "execution_count": null,
   "id": "e0dffd52-fef2-4f5e-a05c-5d96ed6c3aa0",
   "metadata": {},
   "outputs": [],
   "source": [
    "creative_data = load_dataset(\"HSCRP_L.xpt\")\n",
    "creative_data"
   ]
  },
  {
   "cell_type": "code",
   "execution_count": null,
   "id": "ce759460-b5c0-4d58-b634-990c06bfebc4",
   "metadata": {},
   "outputs": [],
   "source": [
    "kidney_condition_data = load_dataset(\"KIQ_U_L.xpt\")\n",
    "kidney_condition_data"
   ]
  },
  {
   "cell_type": "code",
   "execution_count": null,
   "id": "3ba79de9-73ab-4dda-8e65-ae8a9cd86a6e",
   "metadata": {},
   "outputs": [],
   "source": [
    "BDmass_data = load_dataset(\"BMX_L.xpt\")\n",
    "BDmass_data"
   ]
  },
  {
   "cell_type": "code",
   "execution_count": null,
   "id": "f57eced7-f97e-418d-8314-0c85de9c389d",
   "metadata": {},
   "outputs": [],
   "source": [
    "vitD_data = load_dataset(\"VID_L.xpt\")\n",
    "vitD_data"
   ]
  },
  {
   "cell_type": "code",
   "execution_count": null,
   "id": "ac1ff754-398d-47c5-8895-c1e15343cd56",
   "metadata": {},
   "outputs": [],
   "source": [
    "# Preg_data = load_dataset('UCPREG_L.xpt')\n",
    "# Preg_data"
   ]
  },
  {
   "cell_type": "code",
   "execution_count": null,
   "id": "23b6d591-7e42-443d-bc58-4284e44b4d3f",
   "metadata": {},
   "outputs": [],
   "source": [
    "data = demo_data.merge(fertin_data, on='SEQN')\n",
    "data = data.merge(creative_data, on = 'SEQN')\n",
    "data = data.merge(kidney_condition_data, on = 'SEQN')\n",
    "data = data.merge(insurance_data, on = 'SEQN')\n",
    "data = data.merge(vitD_data, on = 'SEQN')\n",
    "data = data.merge(BDmass_data, on = 'SEQN')\n",
    "# data = data.merge(Preg_data, on = 'SEQN')\n",
    "data"
   ]
  },
  {
   "cell_type": "code",
   "execution_count": null,
   "id": "6d8b25a0-2698-4a49-adc5-7f0edb37a0f6",
   "metadata": {},
   "outputs": [],
   "source": [
    "data = data.drop_duplicates(subset='SEQN') \n",
    "data"
   ]
  },
  {
   "cell_type": "code",
   "execution_count": null,
   "id": "c47cd397-0557-406e-99f3-0b82c05381d6",
   "metadata": {},
   "outputs": [],
   "source": [
    "data.columns = data.columns.str.strip().str.lower()"
   ]
  },
  {
   "cell_type": "code",
   "execution_count": null,
   "id": "b58a3daf-89d6-42bf-8400-9adbc0ca1eb3",
   "metadata": {},
   "outputs": [],
   "source": [
    "missing_percent = data.isnull().mean() \n",
    "cols_to_drop = missing_percent[missing_percent>0.5].index.tolist()\n",
    "data = data.drop(columns = cols_to_drop)"
   ]
  },
  {
   "cell_type": "markdown",
   "id": "1c3c8a63-917d-4388-8d1f-fbf0b391c731",
   "metadata": {},
   "source": [
    "missing_percent = data.insull().mean()\n",
    "cols_to_drop = missing_percent[missing_percent>0.5].index.tolist()\n",
    "data = data.drop(column = cols_to_drop)"
   ]
  },
  {
   "cell_type": "code",
   "execution_count": null,
   "id": "25aef64d-568a-48dc-ba66-d7fc400f0d0f",
   "metadata": {},
   "outputs": [],
   "source": [
    "data"
   ]
  },
  {
   "cell_type": "code",
   "execution_count": null,
   "id": "de1e139d-a7e4-4863-89ce-31d90fd64ace",
   "metadata": {},
   "outputs": [],
   "source": [
    "numeric_cols = data.select_dtypes(include = ['int64', 'float64']).columns\n",
    "categorical_cols = data.select_dtypes(include=['object']).columns\n",
    "num_imputer = SimpleImputer(strategy = 'median')\n",
    "data[numeric_cols] = numeric_imputer.fit_transform(data[numeric_cols])"
   ]
  },
  {
   "cell_type": "code",
   "execution_count": null,
   "id": "4d68fd46-2d98-445a-a723-87c0f3d6e710",
   "metadata": {},
   "outputs": [],
   "source": [
    "data"
   ]
  },
  {
   "cell_type": "code",
   "execution_count": null,
   "id": "90345c89-c872-4bee-893b-0005bbef1e96",
   "metadata": {},
   "outputs": [],
   "source": [
    "filtered_data = data[data['riagendr'] != 1.0]\n",
    "filtered_data"
   ]
  },
  {
   "cell_type": "code",
   "execution_count": null,
   "id": "bab95578-777a-42c7-abeb-cae7e8e3051e",
   "metadata": {},
   "outputs": [],
   "source": [
    "filtered_data.columns\n",
    "\n",
    "x= filtered_data.drop(columns=['hiq011','hiq032a','hiq210'])\n",
    "y= data[['hiq011','hiq032a', 'hiq210']]\n",
    "print(\"printing x values\")\n",
    "print(x)\n",
    "print(\"printing y values\")\n",
    "print(y)\n",
    "\n",
    "filtered_data.sum()"
   ]
  },
  {
   "cell_type": "code",
   "execution_count": null,
   "id": "8ccdbe8c-f354-4db9-a096-66d221cd9eed",
   "metadata": {},
   "outputs": [],
   "source": [
    "scaler = StandardScaler()\n",
    "x_scaled = scaler.fit_transform(x)  # scale the feature"
   ]
  },
  {
   "cell_type": "code",
   "execution_count": null,
   "id": "4b854649-6892-44d7-9e8a-ac28c792c661",
   "metadata": {},
   "outputs": [],
   "source": [
    "poly = PolynomialFeatures(degree=2, include_bias=False)\n",
    "x_poly = poly.fit_transform(x_scaled)"
   ]
  },
  {
   "cell_type": "code",
   "execution_count": null,
   "id": "8fb579eb-4a12-478f-857b-35d188cb2d25",
   "metadata": {},
   "outputs": [],
   "source": [
    "x_train, x_test, y_train, y_test = train_test_split(x_scaled, y, test_size=0.3, random_state=42)\n",
    "print(x_train, y_train)"
   ]
  },
  {
   "cell_type": "code",
   "execution_count": null,
   "id": "50645ca6-e51f-455b-ad19-0a8b1d55ed89",
   "metadata": {},
   "outputs": [],
   "source": [
    "model = LogisticRegression(class_weight='balanced', max_iter=10000)\n",
    "model= MultiOutputClassifier(model)\n",
    "model.fit(x_train, y_train)"
   ]
  },
  {
   "cell_type": "code",
   "execution_count": null,
   "id": "d8438cf1-6303-46f5-9e46-7d9859abd55d",
   "metadata": {},
   "outputs": [],
   "source": [
    "y_pred = model.predict(x_test)"
   ]
  },
  {
   "cell_type": "code",
   "execution_count": null,
   "id": "f6e6dcce-3094-4663-b068-c83b63ee88e7",
   "metadata": {},
   "outputs": [],
   "source": [
    "# Evaluate the model\n",
    "print(\"🔍 Accuracy per target label:\")\n",
    "for i, col in enumerate(y.columns):\n",
    "    acc = accuracy_score(y_test[col], y_pred[:, i])\n",
    "    print(f\"{col}: {acc:.4f}\")\n",
    "\n",
    "for i, col in enumerate(y.columns):\n",
    "    print(f\"\\n📊 Classification report for {col}:\")\n",
    "    print(classification_report(y_test[col], y_pred[:, i], zero_division=1))"
   ]
  },
  {
   "cell_type": "code",
   "execution_count": null,
   "id": "36c8655b-46f7-471b-8d0e-603a3817010b",
   "metadata": {},
   "outputs": [],
   "source": [
    "output_dir = \"image\"\n",
    "if not os.path.exists(output_dir):\n",
    "    os.makedirs(output_dir)"
   ]
  },
  {
   "cell_type": "code",
   "execution_count": null,
   "id": "3f5e0da5-1b88-4d52-8ef1-b70d384687a4",
   "metadata": {},
   "outputs": [],
   "source": [
    "plt.scatter(y_test, y_pred, alpha = 0.5)\n",
    "plt.plot([y_test.min(), y_test.max()], [y_test.min(), y_test.max()], 'r--', lw=2)\n",
    "plt.xlabel(\"Actual Values\")\n",
    "plt.ylabel(\"Predicted Values\")\n",
    "plt.title(\"LogisticRegression: Actual vs Predicted\")\n",
    "plt.show()"
   ]
  },
  {
   "cell_type": "code",
   "execution_count": null,
   "id": "9ba5f04d-ce4d-4844-ba68-eed18fb615f7",
   "metadata": {},
   "outputs": [],
   "source": [
    "png_path = os.path.join(output_dir, 'bias.png')\n",
    "plt.savefig(png_path, bbox_inches='tight', dpi=300)\n",
    "print(f\"Pie chart exported as PNG to: {png_path}\")"
   ]
  },
  {
   "cell_type": "code",
   "execution_count": null,
   "id": "e7d2aa3b-8ca5-4593-95f5-7fd6e8c13afd",
   "metadata": {},
   "outputs": [],
   "source": [
    "for i, feature in enumerate(features_to_plot):\n",
    "    if feature in filtered_data.columns:\n",
    "        plt.subplot(1, len(features_to_plot), i + 1)\n",
    "        sns.boxplot(y=filtered_data[feature])\n",
    "        plt.title(f\"{feature.upper()} Distribution\")\n",
    "        plt.ylabel(feature.upper())\n",
    "\n",
    "plt.tight_layout()\n",
    "plt.show()"
   ]
  },
  {
   "cell_type": "code",
   "execution_count": null,
   "id": "667bdc63-dbb5-4ddf-87c0-2edc079cd000",
   "metadata": {},
   "outputs": [],
   "source": []
  }
 ],
 "metadata": {
  "kernelspec": {
   "display_name": "Python [conda env:base] *",
   "language": "python",
   "name": "conda-base-py"
  },
  "language_info": {
   "codemirror_mode": {
    "name": "ipython",
    "version": 3
   },
   "file_extension": ".py",
   "mimetype": "text/x-python",
   "name": "python",
   "nbconvert_exporter": "python",
   "pygments_lexer": "ipython3",
   "version": "3.12.7"
  }
 },
 "nbformat": 4,
 "nbformat_minor": 5
}
