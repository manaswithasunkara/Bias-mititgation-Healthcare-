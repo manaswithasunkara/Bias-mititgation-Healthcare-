{
 "cells": [
  {
   "cell_type": "code",
   "execution_count": 3,
   "id": "f690d2a0-26c2-42e6-b153-8da63cc81e03",
   "metadata": {},
   "outputs": [],
   "source": [
    "import pandas as pd\n"
   ]
  },
  {
   "cell_type": "code",
   "execution_count": 5,
   "id": "70d86f1a-d649-4229-b544-92fb768b9b9a",
   "metadata": {},
   "outputs": [
    {
     "name": "stdout",
     "output_type": "stream",
     "text": [
      "           SEQN  SDDSRVYR  RIDSTATR  RIAGENDR  RIDAGEYR  RIDAGEMN  RIDRETH1  \\\n",
      "0      130378.0      12.0       2.0       1.0      43.0       NaN       5.0   \n",
      "1      130379.0      12.0       2.0       1.0      66.0       NaN       3.0   \n",
      "2      130380.0      12.0       2.0       2.0      44.0       NaN       2.0   \n",
      "3      130381.0      12.0       2.0       2.0       5.0       NaN       5.0   \n",
      "4      130382.0      12.0       2.0       1.0       2.0       NaN       3.0   \n",
      "...         ...       ...       ...       ...       ...       ...       ...   \n",
      "11928  142306.0      12.0       2.0       1.0       9.0       NaN       2.0   \n",
      "11929  142307.0      12.0       2.0       2.0      49.0       NaN       4.0   \n",
      "11930  142308.0      12.0       2.0       1.0      50.0       NaN       2.0   \n",
      "11931  142309.0      12.0       2.0       1.0      40.0       NaN       2.0   \n",
      "11932  142310.0      12.0       2.0       2.0      80.0       NaN       3.0   \n",
      "\n",
      "       RIDRETH3  RIDEXMON  RIDEXAGM  ...  DMDHRGND  DMDHRAGZ  DMDHREDZ  \\\n",
      "0           6.0       2.0       NaN  ...       NaN       NaN       NaN   \n",
      "1           3.0       2.0       NaN  ...       NaN       NaN       NaN   \n",
      "2           2.0       1.0       NaN  ...       NaN       NaN       NaN   \n",
      "3           7.0       1.0      71.0  ...       2.0       2.0       2.0   \n",
      "4           3.0       2.0      34.0  ...       2.0       2.0       3.0   \n",
      "...         ...       ...       ...  ...       ...       ...       ...   \n",
      "11928       2.0       1.0     111.0  ...       1.0       3.0       3.0   \n",
      "11929       4.0       2.0       NaN  ...       NaN       NaN       NaN   \n",
      "11930       2.0       1.0       NaN  ...       NaN       NaN       NaN   \n",
      "11931       2.0       1.0       NaN  ...       NaN       NaN       NaN   \n",
      "11932       3.0       1.0       NaN  ...       NaN       NaN       NaN   \n",
      "\n",
      "       DMDHRMAZ  DMDHSEDZ      WTINT2YR      WTMEC2YR  SDMVSTRA  SDMVPSU  \\\n",
      "0           NaN       NaN  50055.450807  54374.463898     173.0      2.0   \n",
      "1           NaN       NaN  29087.450605  34084.721548     173.0      2.0   \n",
      "2           NaN       NaN  80062.674301  81196.277992     174.0      1.0   \n",
      "3           3.0       NaN  38807.268902  55698.607106     182.0      2.0   \n",
      "4           1.0       2.0  30607.519774  36434.146346     182.0      2.0   \n",
      "...         ...       ...           ...           ...       ...      ...   \n",
      "11928       3.0       NaN  11147.192563  13459.129019     176.0      1.0   \n",
      "11929       NaN       NaN  69419.620456  64962.328962     181.0      1.0   \n",
      "11930       NaN       NaN  32696.313477  44367.534132     183.0      2.0   \n",
      "11931       NaN       NaN  30547.974564  46249.361849     176.0      1.0   \n",
      "11932       NaN       NaN  32753.585494  49647.225467     187.0      2.0   \n",
      "\n",
      "       INDFMPIR  \n",
      "0          5.00  \n",
      "1          5.00  \n",
      "2          1.41  \n",
      "3          1.53  \n",
      "4          3.60  \n",
      "...         ...  \n",
      "11928      2.01  \n",
      "11929       NaN  \n",
      "11930      1.95  \n",
      "11931      3.11  \n",
      "11932      5.00  \n",
      "\n",
      "[11933 rows x 27 columns]\n"
     ]
    }
   ],
   "source": [
    "# reading the dataset \n",
    "df= pd.read_sas(\"DEMO_L.xpt\", format=\"xport\")\n",
    "print(df)"
   ]
  },
  {
   "cell_type": "code",
   "execution_count": null,
   "id": "5c1766e3-f2cc-4820-8cc7-bd2d0b60696b",
   "metadata": {},
   "outputs": [],
   "source": []
  }
 ],
 "metadata": {
  "kernelspec": {
   "display_name": "Python [conda env:base] *",
   "language": "python",
   "name": "conda-base-py"
  },
  "language_info": {
   "codemirror_mode": {
    "name": "ipython",
    "version": 3
   },
   "file_extension": ".py",
   "mimetype": "text/x-python",
   "name": "python",
   "nbconvert_exporter": "python",
   "pygments_lexer": "ipython3",
   "version": "3.12.7"
  }
 },
 "nbformat": 4,
 "nbformat_minor": 5
}
